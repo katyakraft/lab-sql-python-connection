{
 "cells": [
  {
   "cell_type": "code",
   "execution_count": 1,
   "id": "9591e486-d976-48d8-abdf-c3308a96a5ff",
   "metadata": {},
   "outputs": [],
   "source": [
    "import pandas as pd\n",
    "import mysql.connector \n",
    "from sqlalchemy import create_engine "
   ]
  },
  {
   "cell_type": "code",
   "execution_count": 3,
   "id": "cf0e9563-29f7-418c-85c4-afe3123ef81d",
   "metadata": {},
   "outputs": [],
   "source": [
    "#1\n",
    "cnx = mysql.connector.connect(user=\"root\",\n",
    "                             password = \"lobeckkreuzberg\",\n",
    "                             host = \"localhost\",\n",
    "                             database = \"bank\")"
   ]
  },
  {
   "cell_type": "code",
   "execution_count": 5,
   "id": "66d4e812-df7a-4752-a1cd-244c83ab1fd3",
   "metadata": {},
   "outputs": [
    {
     "data": {
      "text/plain": [
       "True"
      ]
     },
     "execution_count": 5,
     "metadata": {},
     "output_type": "execute_result"
    }
   ],
   "source": [
    "cnx.is_connected()"
   ]
  },
  {
   "cell_type": "code",
   "execution_count": 7,
   "id": "5ce2b19b-2cb8-4b5f-a690-97894ee10890",
   "metadata": {},
   "outputs": [],
   "source": [
    "#2\n",
    "def rentals_month(engine, month, year):\n",
    "    \"\"\"\n",
    "    Retrieves rental data for the specified month and year from the Sakila database.\n",
    "    \"\"\"\n",
    "    # SQL query to retrieve rental data for the given month and year\n",
    "    query = f\"\"\"\n",
    "    SELECT * \n",
    "    FROM rental \n",
    "    WHERE EXTRACT(MONTH FROM rental_date) = {month}\n",
    "    AND EXTRACT(YEAR FROM rental_date) = {year};\n",
    "    \"\"\"\n",
    "    # Execute the query and return the results as a DataFrame\n",
    "    return pd.read_sql(query, engine)"
   ]
  },
  {
   "cell_type": "code",
   "execution_count": 9,
   "id": "09037d80-acce-402e-bbfa-3645f5f73918",
   "metadata": {},
   "outputs": [],
   "source": [
    "#3\n",
    "def rental_count_month(df, month, year):\n",
    "    \"\"\"\n",
    "    Takes a DataFrame with rental data and returns a new DataFrame containing\n",
    "    the number of rentals made by each customer_id during the specified month and year.\n",
    "    \"\"\"\n",
    "    # Create a new column name based on the month and year\n",
    "    column_name = f\"rentals_{str(month).zfill(2)}_{year}\"\n",
    "    \n",
    "    # Group the DataFrame by customer_id and count the number of rentals\n",
    "    rental_counts = df.groupby('customer_id')['rental_id'].count().reset_index()\n",
    "    \n",
    "    # Rename the column to reflect the month and year\n",
    "    rental_counts.rename(columns={'rental_id': column_name}, inplace=True)\n",
    "    \n",
    "    return rental_counts"
   ]
  },
  {
   "cell_type": "code",
   "execution_count": 11,
   "id": "9150a130-6016-4a2f-ab1f-24754852cc85",
   "metadata": {},
   "outputs": [],
   "source": [
    "#4\n",
    "def compare_rentals(df1, df2):\n",
    "    \"\"\"\n",
    "    Compares the number of rentals made by each customer in two different months and years.\n",
    "    \"\"\"\n",
    "    \n",
    "    # Merge the two DataFrames on customer_id\n",
    "    combined_df = pd.merge(df1, df2, on='customer_id', how='outer', suffixes=('_month1', '_month2'))\n",
    "    \n",
    "    # Fill missing values with 0 (if a customer rented in one month but not the other)\n",
    "    combined_df.fillna(0, inplace=True)\n",
    "    \n",
    "    # Create a new 'difference' column showing the difference in rental counts\n",
    "    combined_df['difference'] = combined_df.iloc[:, 1] - combined_df.iloc[:, 2]\n",
    "    \n",
    "    return combined_df"
   ]
  },
  {
   "cell_type": "code",
   "execution_count": null,
   "id": "924830b8-29d7-4333-877c-978e7cb15944",
   "metadata": {},
   "outputs": [],
   "source": []
  }
 ],
 "metadata": {
  "kernelspec": {
   "display_name": "Python 3 (ipykernel)",
   "language": "python",
   "name": "python3"
  },
  "language_info": {
   "codemirror_mode": {
    "name": "ipython",
    "version": 3
   },
   "file_extension": ".py",
   "mimetype": "text/x-python",
   "name": "python",
   "nbconvert_exporter": "python",
   "pygments_lexer": "ipython3",
   "version": "3.12.4"
  }
 },
 "nbformat": 4,
 "nbformat_minor": 5
}
